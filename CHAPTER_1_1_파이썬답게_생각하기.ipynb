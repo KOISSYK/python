{
  "nbformat": 4,
  "nbformat_minor": 0,
  "metadata": {
    "colab": {
      "name": "CHAPTER 1 -1 파이썬답게 생각하기.ipynb",
      "provenance": [],
      "collapsed_sections": [],
      "authorship_tag": "ABX9TyPL9bz4hrJgbjGA2g47bK0K",
      "include_colab_link": true
    },
    "kernelspec": {
      "name": "python3",
      "display_name": "Python 3"
    },
    "language_info": {
      "name": "python"
    }
  },
  "cells": [
    {
      "cell_type": "markdown",
      "metadata": {
        "id": "view-in-github",
        "colab_type": "text"
      },
      "source": [
        "<a href=\"https://colab.research.google.com/github/KOISSYK/python/blob/main/CHAPTER_1_1_%ED%8C%8C%EC%9D%B4%EC%8D%AC%EB%8B%B5%EA%B2%8C_%EC%83%9D%EA%B0%81%ED%95%98%EA%B8%B0.ipynb\" target=\"_parent\"><img src=\"https://colab.research.google.com/assets/colab-badge.svg\" alt=\"Open In Colab\"/></a>"
      ]
    },
    {
      "cell_type": "markdown",
      "source": [
        ""
      ],
      "metadata": {
        "id": "vj_14HsRpEZh"
      }
    },
    {
      "cell_type": "markdown",
      "source": [
        "# **1.스타일 가이드**"
      ],
      "metadata": {
        "id": "PoIkp1dVc51U"
      }
    },
    {
      "cell_type": "markdown",
      "source": [
        "공백"
      ],
      "metadata": {
        "id": "Mc-4AnsJdE0t"
      }
    },
    {
      "cell_type": "markdown",
      "source": [
        "*   탭 대신 스페이스를 사용해 들여쓰기 하라\n",
        "*   문법적으로 중요한 들여쓰기에는 4칸 스페이스를 사용하라\n",
        "*   라인 길이는 79개 문자 이하여야 한다\n",
        "*   긴 식을 다음줄에 이어서 쓸 경우에는 일반적인 들여쓰기보다 4칸 스페이스를 더 들여써야 한다\n",
        "*   파일 안에서 각 함수와 클래스 사이에는 빈 줄을 두 줄 넣어라\n",
        "*   클래스에서 메서드와 메서드 사이에는 빈 줄을 한줄 넣어라\n",
        "*   딕셔너리에서 키와 콜론(:)사이에는 공백을 넣지 않고, 한 줄안에 키와 값을 같이 넣는 경우애는 콜론 다음에 스페이스를 하나 넣는다\n",
        "\n",
        "\n",
        "\n"
      ],
      "metadata": {
        "id": "RXAsqaWcc2z1"
      }
    },
    {
      "cell_type": "markdown",
      "source": [
        "명명규약"
      ],
      "metadata": {
        "id": "ybFeWZOie2gU"
      }
    },
    {
      "cell_type": "markdown",
      "source": [
        "\n",
        "\n",
        "*   함수,변수,애트리뷰트(attibute)는 lowercase_underscore처럼 소문자와 밑줄을 사용\n",
        "*   보호해야 되는 인스턴스 애트리뷰트는 일반적인 이름을 규칙을 따르되, _leading_underscore처럼 밑줄로 시작  \n",
        "*   비공개(한 클래스 안에서만 쓰고 다른 곳에서는 쓰면 안되는경우)인스턴스 애트리뷰트는 일반적인 애트리뷰트 이름규칙을 따르되, __leading_underscore처럼 밑줄을 두개로 시작한다\n",
        "*   클래스는 ex)CapitalizedWord처럼 여러 단어를 이어 붙이되, 각 단어의 첫 글자를 대문자로 만든다\n",
        "*   클래스에 들어있는 인스턴스 메서드는 호출대상 객체를 가리키는 첫번째 인자의 이름으로 반드시 self를 사용\n",
        "*   클래스 메서드는 클래스를 가리키는 첫번째 인자의 이름으로 반드시 cls를 사용\n",
        "\n",
        "\n",
        "\n",
        "\n"
      ],
      "metadata": {
        "id": "gtG614yCeWty"
      }
    },
    {
      "cell_type": "markdown",
      "source": [
        "식과 문"
      ],
      "metadata": {
        "id": "XLEI4BWTkGZw"
      }
    },
    {
      "cell_type": "markdown",
      "source": [
        "*   긍정적인 식을 부정하지말고 (if not a is b)부정을 내부에 넣어라(if a is not b)\n",
        "*   한 줄짜리 if문이나 한줄짜리 for,while루프, 한줄짜리 except복합문을 사용하지 말라.명확성을 위해 각 부분을 여러 줄에 나눠 배치\n",
        "*   식을 한줄안에 다 쓸수 없는 경우, 식을 괄호로 둘러싸고 줄바꿈과 들여쓰기를 추가해서 읽기 쉽게 하라\n",
        "*   여러 줄에 걸쳐 식을 쓸 때는 줄이 계속된다는 표시를 하는 \\문자보다는 괄호를 사용하라\n",
        "\n",
        "\n",
        "\n",
        "\n",
        "\n"
      ],
      "metadata": {
        "id": "EJTYnSsPkUvC"
      }
    },
    {
      "cell_type": "markdown",
      "source": [
        "# **2.bytes 와 str**"
      ],
      "metadata": {
        "id": "im6UdhGVpI5b"
      }
    },
    {
      "cell_type": "markdown",
      "source": [
        "\n",
        "\n",
        "1.   bytes에는 8비트 값의 시퀀스가 들어있고,str에는 유니코드포인트의 시퀀스가 들어있다.\n",
        "\n",
        "\n",
        "```\n",
        "# bytes인스턴스\n",
        "a = b'h\\x65llo'\n",
        "print(list(a))\n",
        "print(a)\n",
        "\n",
        ">>> \n",
        "[104, 101, 108, 108, 111]\n",
        "b'hello'\n",
        "----------------------\n",
        "#str인스턴스\n",
        "a = 'a\\u0300 propos'\n",
        "print(list(a))\n",
        "print(a)\n",
        "\n",
        ">>>\n",
        "['a', '̀', ' ', 'p', 'r', 'o', 'p', 'o', 's']\n",
        "à propos\n",
        "```\n",
        "\n",
        "\n",
        "2.   처리할 입력이 원하는 문자 시퀀스가 (8비트 값, UTF-8로 인코딩된 문자열, 유니코드 포인트들)인지 확실히 하려면 도우미 함수를 사용하라.\n",
        "3.   bytes와 str인스턴스를 연산자와 함께 사용할수없다.\n",
        "4.   이진데이터를 파일에서 읽거나 파일에 쓰고 싶으면 항상 이진모드('rb'나 'wb')로 파일을열어라\n",
        "5.   유니코드 데이터를 파일에서 읽거나 파일에 쓰고 싶을 떄는 시스템 디폴트 인코딩에 주의\n",
        "\n"
      ],
      "metadata": {
        "id": "j07db0IvpQl9"
      }
    },
    {
      "cell_type": "markdown",
      "source": [
        "# **3. C 스타일 형식의 문자열을 str.format과 쓰기보다 는 f-문자열을 통한 인터폴레이션을 사용하라**"
      ],
      "metadata": {
        "id": "ZctvLLrA1bd4"
      }
    },
    {
      "cell_type": "code",
      "source": [
        "a = 1234.5678\n",
        "formatted = format(a, ',.2f')\n",
        "print(formatted)\n",
        "\n",
        "b = 'my string'\n",
        "formatted = format(b, '^20s')\n",
        "print('*',formatted,'*')"
      ],
      "metadata": {
        "colab": {
          "base_uri": "https://localhost:8080/"
        },
        "id": "o67bax1q1vzc",
        "outputId": "16488e52-a025-4d5c-98e7-704f161298d9"
      },
      "execution_count": 7,
      "outputs": [
        {
          "output_type": "stream",
          "name": "stdout",
          "text": [
            "1,234.57\n",
            "*      my string       *\n"
          ]
        }
      ]
    },
    {
      "cell_type": "markdown",
      "source": [
        "위치 지정자 {}를 사용할 수 있다.\n",
        "\n"
      ],
      "metadata": {
        "id": "HUChwCoN19KO"
      }
    },
    {
      "cell_type": "code",
      "source": [
        "key = 'my_var'\n",
        "value = 1.234\n",
        "formatted = '{} = {}'.format(key, value)\n",
        "print(formatted)"
      ],
      "metadata": {
        "colab": {
          "base_uri": "https://localhost:8080/"
        },
        "id": "HtIk3NC01xw4",
        "outputId": "e5b31d53-ea43-475f-f4e3-fca50c91e277"
      },
      "execution_count": 8,
      "outputs": [
        {
          "output_type": "stream",
          "name": "stdout",
          "text": [
            "my_var = 1.234\n"
          ]
        }
      ]
    },
    {
      "cell_type": "markdown",
      "source": [
        "인자의 순서를 표현하는 위치 인덱스를 전달할 수도 있다.\n",
        "\n"
      ],
      "metadata": {
        "id": "PvJwcAPA2PSu"
      }
    },
    {
      "cell_type": "code",
      "source": [
        "formatted = '{1} = {0}'.format(key, value)\n",
        "print(formatted)"
      ],
      "metadata": {
        "colab": {
          "base_uri": "https://localhost:8080/"
        },
        "id": "zH9UfTKD1x72",
        "outputId": "317b4e30-7f28-4c5e-ee07-12aa6650e9e1"
      },
      "execution_count": 9,
      "outputs": [
        {
          "output_type": "stream",
          "name": "stdout",
          "text": [
            "1.234 = my_var\n"
          ]
        }
      ]
    },
    {
      "cell_type": "markdown",
      "source": [
        "# **4.복잡한 식을 쓰는 대신 도우미 함수를 작성**"
      ],
      "metadata": {
        "id": "AVLgbJirxOnZ"
      }
    },
    {
      "cell_type": "markdown",
      "source": [
        "URL의 질의 문자열(query string)을 구문분석(parsing)하고 싶다고 하면 여기서 각 질의 문자열 파라미터는 정수 값을 표현"
      ],
      "metadata": {
        "id": "QOxzKaHIxjky"
      }
    },
    {
      "cell_type": "code",
      "source": [
        "from urllib.parse import parse_qs\n",
        "\n",
        "my_values = parse_qs('빨강=5&파랑=0&초록=', keep_blank_values=True)\n",
        "print(repr(my_values))"
      ],
      "metadata": {
        "colab": {
          "base_uri": "https://localhost:8080/"
        },
        "id": "h9-9FubQx_sd",
        "outputId": "2e3d18d9-fdf2-4a7a-8f9d-0b0efbc73269"
      },
      "execution_count": 10,
      "outputs": [
        {
          "output_type": "stream",
          "name": "stdout",
          "text": [
            "{'빨강': ['5'], '파랑': ['0'], '초록': ['']}\n"
          ]
        }
      ]
    },
    {
      "cell_type": "markdown",
      "source": [
        "일부 질의 문자열 파라미터는 여러값이 들어있고, 일부는 값이 하나만 있을수도 있고, 일부는 없을수도 있다.\n",
        "\n",
        "결과 딕셔너리에 get메서드를 사용하면 상황에 따라 다른 값이 반환된다."
      ],
      "metadata": {
        "id": "gZVRB8EDy1x4"
      }
    },
    {
      "cell_type": "code",
      "source": [
        "print('빨강:',my_values.get('빨강'))\n",
        "print('초록:',my_values.get('초록'))\n",
        "print('투명도:',my_values.get('투명도'))"
      ],
      "metadata": {
        "colab": {
          "base_uri": "https://localhost:8080/"
        },
        "id": "cK6HDznWyl5X",
        "outputId": "157b7c60-594e-4140-80cc-599690bd4b2a"
      },
      "execution_count": 11,
      "outputs": [
        {
          "output_type": "stream",
          "name": "stdout",
          "text": [
            "빨강: ['5']\n",
            "초록: ['']\n",
            "투명도: None\n"
          ]
        }
      ]
    },
    {
      "cell_type": "markdown",
      "source": [
        "파라미터가 없거나 비어 있을경우 0이 디폴트값으로 대입되면 좋을것이다.\n",
        "\n",
        "이런 로직을 처리하기 위해 완전한 if문(statement)을 쓰거나 도우미 함수를 작석하는 것은 매력이 없다.\n",
        "\n",
        "***if식(ecpresion)을 사용하는것을 권장***"
      ],
      "metadata": {
        "id": "bUW0gdq7PuPG"
      }
    },
    {
      "cell_type": "markdown",
      "source": [
        "'빨강'인 경우 my_values 딕셔너리 안에 키가 있기때문에 작동\n",
        "\n",
        "```\n",
        "# 빨강 추출\n",
        "red = my_values.get('빨강',[''])[0]or[]\n",
        "print(f'빨강: {red!r}')\n",
        "\n",
        "결과\n",
        "빨강: '5'\n",
        "\n",
        "```\n",
        "위 코드는 너무 읽기 어렵고 시각적 잡음이 많음\n",
        "\n"
      ],
      "metadata": {
        "id": "UeYuZNIvUhMa"
      }
    },
    {
      "cell_type": "markdown",
      "source": [
        "if/else 를 사용하여 명확하게!"
      ],
      "metadata": {
        "id": "4BXgEPj8WDIY"
      }
    },
    {
      "cell_type": "code",
      "source": [
        "red_str = my_values.get('빨강',[''])\n",
        "red = int(red_str[0])if red_str[0] else 0\n",
        "print(red_str)"
      ],
      "metadata": {
        "colab": {
          "base_uri": "https://localhost:8080/"
        },
        "id": "BIg63shTVDUw",
        "outputId": "3cf5f9cd-54e5-4f96-e80e-20749b484950"
      },
      "execution_count": 12,
      "outputs": [
        {
          "output_type": "stream",
          "name": "stdout",
          "text": [
            "['5']\n"
          ]
        }
      ]
    },
    {
      "cell_type": "markdown",
      "source": [
        "'초록'인 경우, my_values 딕셔너리 안에 키가 있기에 작동.\n",
        "\n",
        "단 list 안에 빈 문자열이 유일한 원소인데, 빈 문자열은 암묵적으로\n",
        "\n",
        "False 로 평가되고, 그에 따라 0으로 판단."
      ],
      "metadata": {
        "id": "caYxe49_WJyC"
      }
    },
    {
      "cell_type": "code",
      "source": [
        "green = my_values.get('초록',[''])[0]or[]\n",
        "print(f'초록: {green!r}')"
      ],
      "metadata": {
        "colab": {
          "base_uri": "https://localhost:8080/"
        },
        "id": "9jBehqtte1gM",
        "outputId": "7acb0ddc-f93e-4b1b-f28d-8761fe10db2f"
      },
      "execution_count": 13,
      "outputs": [
        {
          "output_type": "stream",
          "name": "stdout",
          "text": [
            "초록: []\n"
          ]
        }
      ]
    },
    {
      "cell_type": "code",
      "source": [
        "green_str = my_values.get('초록', [''])\n",
        "if green_str[0]:\n",
        "    green = int(green_str[0])\n",
        "else:\n",
        "    green = 0"
      ],
      "metadata": {
        "id": "jwEEoR-dQcsA"
      },
      "execution_count": 14,
      "outputs": []
    },
    {
      "cell_type": "code",
      "source": [
        "def get_first_int(values, key, default=0):\n",
        "  found = values.get(key,[''])\n",
        "  if found[0]:\n",
        "    return int([0])\n",
        "  return default"
      ],
      "metadata": {
        "id": "KGf_UsUXSrRl"
      },
      "execution_count": 15,
      "outputs": []
    },
    {
      "cell_type": "code",
      "source": [
        "green = get_first_int(my_values,'초록')\n",
        "print(green)"
      ],
      "metadata": {
        "colab": {
          "base_uri": "https://localhost:8080/"
        },
        "id": "Rko98qSJTO4l",
        "outputId": "2bd444e6-e375-4092-c9c0-c6a96b4dc36d"
      },
      "execution_count": 16,
      "outputs": [
        {
          "output_type": "stream",
          "name": "stdout",
          "text": [
            "0\n"
          ]
        }
      ]
    },
    {
      "cell_type": "markdown",
      "source": [
        "# **5.인덱스를 사용하는 대신 대입을 사용해 데이터를 언팩킹하라**"
      ],
      "metadata": {
        "id": "345-L3tsfaq5"
      }
    },
    {
      "cell_type": "markdown",
      "source": [
        "파이썬에는 값으로 이뤄진 불편 순서쌍을 만들어 낼 수있는 tuple 타입이 있다.\n",
        "\n",
        "가장 짧은 튜플은 딕셔너리의 키-값쌍과 비슷하게 두 값으로 이뤄진다."
      ],
      "metadata": {
        "id": "h9Uj2XWAhptK"
      }
    },
    {
      "cell_type": "code",
      "source": [
        "snack_calories = {\n",
        "    '감자칩' : 140,\n",
        "    '팝콘' : 80,\n",
        "    '땅콩' : 190,\n",
        "}\n",
        "items = tuple(snack_calories.items())\n",
        "print(items)"
      ],
      "metadata": {
        "id": "YkVlfkLzhmUC",
        "colab": {
          "base_uri": "https://localhost:8080/"
        },
        "outputId": "8a6d1c5c-2138-4338-e441-fa97bc648367"
      },
      "execution_count": 17,
      "outputs": [
        {
          "output_type": "stream",
          "name": "stdout",
          "text": [
            "(('감자칩', 140), ('팝콘', 80), ('땅콩', 190))\n"
          ]
        }
      ]
    },
    {
      "cell_type": "markdown",
      "source": [
        "튜플에 있는 값은 숫자인덱스로 접근하기가 싶다"
      ],
      "metadata": {
        "id": "hLYj-7JV7T2J"
      }
    },
    {
      "cell_type": "code",
      "source": [
        "item = ('호박엿', '식혜')\n",
        "first = item[0]\n",
        "second = item[1]\n",
        "print(first, '&', second)"
      ],
      "metadata": {
        "colab": {
          "base_uri": "https://localhost:8080/"
        },
        "id": "G0hL6o9y7Qxp",
        "outputId": "71f9d22e-8c87-439a-ad2d-ba5b247a95dc"
      },
      "execution_count": 18,
      "outputs": [
        {
          "output_type": "stream",
          "name": "stdout",
          "text": [
            "호박엿 & 식혜\n"
          ]
        }
      ]
    },
    {
      "cell_type": "markdown",
      "source": [
        "일단 튜플이 만들어지면, 인덱스를 통해 새값을 대입해서 튜플을 변경할 수 없다.\n",
        "\n",
        "\n",
        "\n",
        "```\n",
        "# \n",
        "pair = ('약과', '호박엿')\n",
        "pair[0] = '타래과'\n",
        "\n",
        "\n",
        ">>>\n",
        "Trackback....\n",
        "TyprError:'tuple' objet does not support item assigment\n",
        "```\n",
        "\n"
      ],
      "metadata": {
        "id": "NcZHrjaF7ucJ"
      }
    },
    {
      "cell_type": "markdown",
      "source": [
        "파이썬에는 언패킹 구문이 있다. 언패킹 구문을 사용하면 한 문장 안에서 여러 값을 대입할 수 있다. \n",
        "\n",
        "파이썬이 허용하지 않았던 구문과 아주 비슷하지만, 두 구문은 매우 다르게 작동한다.\n",
        "\n",
        "예를 들어 투플이 쌍이라는 사실을 알고 있으면, 인덱스를 사용해 각 값에 접근하는 대신 이 튜플을 \n",
        "\n",
        "두 변수 이름으로 이뤄진 튜플에 대입할 수 있다."
      ],
      "metadata": {
        "id": "lTDjKTIvnw14"
      }
    },
    {
      "cell_type": "code",
      "source": [
        "item = ('호박엿', '식혜')\n",
        "first, second = item # 언패킹\n",
        "print(first, '&', second)\n"
      ],
      "metadata": {
        "colab": {
          "base_uri": "https://localhost:8080/"
        },
        "id": "XfcOM818m--a",
        "outputId": "7c61b4c7-4112-4eab-e726-8f36658f2f42"
      },
      "execution_count": 20,
      "outputs": [
        {
          "output_type": "stream",
          "name": "stdout",
          "text": [
            "호박엿 & 식혜\n"
          ]
        }
      ]
    },
    {
      "cell_type": "markdown",
      "source": [
        "결론 : 인덱스를 사용해 내부에 접근하는 대신 언패킹을 사용해 시각적인 잡음을 줄이고 코드를 더 명확하게 만들라!\n",
        "\n"
      ],
      "metadata": {
        "id": "aOzM5tNro87c"
      }
    }
  ]
}