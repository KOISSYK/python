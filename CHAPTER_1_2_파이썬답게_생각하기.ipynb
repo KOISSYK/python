{
  "nbformat": 4,
  "nbformat_minor": 0,
  "metadata": {
    "colab": {
      "name": "CHAPTER 1 -2 파이썬답게 생각하기.ipynb",
      "provenance": [],
      "collapsed_sections": [],
      "authorship_tag": "ABX9TyMXTSA4qXCKLfpLDcLy98RG",
      "include_colab_link": true
    },
    "kernelspec": {
      "name": "python3",
      "display_name": "Python 3"
    },
    "language_info": {
      "name": "python"
    }
  },
  "cells": [
    {
      "cell_type": "markdown",
      "metadata": {
        "id": "view-in-github",
        "colab_type": "text"
      },
      "source": [
        "<a href=\"https://colab.research.google.com/github/KOISSYK/python/blob/main/CHAPTER_1_2_%ED%8C%8C%EC%9D%B4%EC%8D%AC%EB%8B%B5%EA%B2%8C_%EC%83%9D%EA%B0%81%ED%95%98%EA%B8%B0.ipynb\" target=\"_parent\"><img src=\"https://colab.research.google.com/assets/colab-badge.svg\" alt=\"Open In Colab\"/></a>"
      ]
    },
    {
      "cell_type": "markdown",
      "source": [
        "# **6.range보다는 enumerate를 사용하라**"
      ],
      "metadata": {
        "id": "xk_8Z8EKZwwm"
      }
    },
    {
      "cell_type": "markdown",
      "source": [
        ">range 함수"
      ],
      "metadata": {
        "id": "xIP-v22maB62"
      }
    },
    {
      "cell_type": "markdown",
      "source": [
        "**range(stop)**\n",
        "\n",
        "range(10)은 0, 1, 2, 3, 4, 5, 6, 7, 8, 9 숫자를 생성한다.\n",
        "\n",
        "마지막 숫자 10(stop)은 포함되지 않는다.\n",
        "\n",
        "\n",
        "---\n",
        "\n",
        "\n",
        "**range(start, stop)**\n",
        "\n",
        "range(1, 11)은 1, 2, 3, 4, 5, 6, 7, 8, 9, 10 숫자를 생성\n",
        "\n",
        "\n",
        "---\n",
        "\n",
        "\n",
        "\n",
        "**range(start, stop, step)**\n",
        "\n",
        "range(0, 20, 2)\n",
        "\n",
        "0, 2, 4, 6, 8, 10, 12, 14, 16, 18"
      ],
      "metadata": {
        "id": "URfU24ryaGbP"
      }
    },
    {
      "cell_type": "code",
      "execution_count": 1,
      "metadata": {
        "colab": {
          "base_uri": "https://localhost:8080/"
        },
        "id": "uPUxQNwY9fMy",
        "outputId": "6f3cae77-3d17-48f2-b126-6f4e7868bab6"
      },
      "outputs": [
        {
          "output_type": "stream",
          "name": "stdout",
          "text": [
            "바나나맛있어요\n",
            "초콜릿맛있어요\n",
            "피칸맛있어요\n",
            "딸기맛있어요\n"
          ]
        }
      ],
      "source": [
        "#문자열로 이뤄진 list처럼 이터레이션할 대상 데이터 구조가 있으면 루프를 돌릴수있다.\n",
        "flavor_list = ['바나나', '초콜릿', '피칸', '딸기']\n",
        "for flavor in flavor_list:\n",
        "  print(f'{flavor}맛있어요')"
      ]
    },
    {
      "cell_type": "code",
      "source": [
        "#리스트를 이터레이션하면서 리스트의 몇 번째 원소를 처리중인지 알아야할떄 ,예를들어 아이스크림 선호도순위를 출력하고 싶을떄\n",
        "#range 함수를 사용가능\n",
        "for i in range(len(flavor_list)):\n",
        "  flavor = flavor_list[i]\n",
        "  print(f'{i+1} : {flavor}')"
      ],
      "metadata": {
        "colab": {
          "base_uri": "https://localhost:8080/"
        },
        "id": "1YZrLo4Pec9I",
        "outputId": "d628bc73-e6d0-4a74-9426-57070d0a6027"
      },
      "execution_count": 2,
      "outputs": [
        {
          "output_type": "stream",
          "name": "stdout",
          "text": [
            "1 : 바나나\n",
            "2 : 초콜릿\n",
            "3 : 피칸\n",
            "4 : 딸기\n"
          ]
        }
      ]
    },
    {
      "cell_type": "markdown",
      "source": [
        "> enumerate\n",
        "1. 리스트가 있는 경우 순서와 리스트의 값을 전달하는 기능을 가집니다.\n",
        "2. enumerate는 “열거하다”라는 뜻입니다.\n",
        "3. 이 함수는 순서가 있는 자료형(list, set, tuple, dictionary, string)을 입력으로 받아 인덱스 값을 포함하는 enumerate 객체를 리턴합니다.\n",
        "4. 보통 enumerate 함수는 for문과 함께 자주 사용됩니다.\n",
        "\n",
        "\n",
        "\n",
        "\n",
        "\n"
      ],
      "metadata": {
        "id": "bYCRbpzP9iCN"
      }
    },
    {
      "cell_type": "code",
      "source": [
        "# 예제 1. 리스트가 있는 경우 순서와 리스트의 값을 전달하는 기능을 가집니다\n",
        "data = ['frist', 'second','third']\n",
        "data_test = enumerate(data)\n",
        "print(data_test)"
      ],
      "metadata": {
        "colab": {
          "base_uri": "https://localhost:8080/"
        },
        "id": "4s2Aw6ROlToB",
        "outputId": "20e26567-448a-4a6e-fb48-2592dbf53f74"
      },
      "execution_count": 21,
      "outputs": [
        {
          "output_type": "stream",
          "name": "stdout",
          "text": [
            "<enumerate object at 0x7f97e4597140>\n"
          ]
        }
      ]
    },
    {
      "cell_type": "code",
      "source": [
        "#2.enumerate함수는 입력으로 받은 데이터와 인덱스 값을 포함하는 enumerate 객체를 리턴해줍니다.\n",
        "data = ['frist', 'second','third']\n",
        "for value in enumerate(data):\n",
        "  print(value)\n",
        "\n",
        "#리스트의 원소와 인덱스가 튜플형태로 담겨있습니다. "
      ],
      "metadata": {
        "colab": {
          "base_uri": "https://localhost:8080/"
        },
        "id": "VvyS6_xSl9Wj",
        "outputId": "10510646-56a7-4c95-95bc-235f43e275d3"
      },
      "execution_count": 23,
      "outputs": [
        {
          "output_type": "stream",
          "name": "stdout",
          "text": [
            "(0, 'frist')\n",
            "(1, 'second')\n",
            "(2, 'third')\n"
          ]
        }
      ]
    },
    {
      "cell_type": "code",
      "source": [
        "data = ['frist', 'second','third']\n",
        "for i,val in enumerate(data):\n",
        "    print(\"{} 번쨰 값은 {}입니다\".format(i+1, val))"
      ],
      "metadata": {
        "colab": {
          "base_uri": "https://localhost:8080/"
        },
        "id": "8bO9_f1KmNiY",
        "outputId": "1e1631e3-956b-47f4-f04f-3a1a72fffd20"
      },
      "execution_count": 26,
      "outputs": [
        {
          "output_type": "stream",
          "name": "stdout",
          "text": [
            "1 번쨰 값은 frist입니다\n",
            "2 번쨰 값은 second입니다\n",
            "3 번쨰 값은 third입니다\n"
          ]
        }
      ]
    },
    {
      "cell_type": "code",
      "source": [
        "#enumerate 예\n",
        "data = enumerate((1, 2, 3))\n",
        "print(data, type(data))\n",
        "print()\n",
        "\n",
        "data = enumerate({1, 2, 3})\n",
        "for i, value in data:\n",
        "    print(i, \":\", value)\n",
        "print()\n",
        "\n",
        "dict1 = {'이름': '한사람', '나이': 33}\n",
        "data = enumerate(dict1)\n",
        "for i, key in data:\n",
        "    print(i, \":\", key, dict1[key])\n",
        "print()\n",
        "\n",
        "data = enumerate('재미있는 파이썬')\n",
        "for i , value in data:\n",
        "  print(i,':', value)"
      ],
      "metadata": {
        "colab": {
          "base_uri": "https://localhost:8080/"
        },
        "id": "eKuwt03cbt4T",
        "outputId": "e5203469-18d0-4df0-f1e2-da82dd595da9"
      },
      "execution_count": 3,
      "outputs": [
        {
          "output_type": "stream",
          "name": "stdout",
          "text": [
            "<enumerate object at 0x7f60897f60a0> <class 'enumerate'>\n",
            "\n",
            "0 : 1\n",
            "1 : 2\n",
            "2 : 3\n",
            "\n",
            "0 : 이름 한사람\n",
            "1 : 나이 33\n",
            "\n",
            "0 : 재\n",
            "1 : 미\n",
            "2 : 있\n",
            "3 : 는\n",
            "4 :  \n",
            "5 : 파\n",
            "6 : 이\n",
            "7 : 썬\n"
          ]
        }
      ]
    },
    {
      "cell_type": "markdown",
      "source": [
        "enumerate는 이터레이터를 지연 게산 제너레이터로 감싼다. enumerate는 루프 인덱스와 이터레이터의 \n",
        "\n",
        "다음 값으로 이뤄진 쌍을 넘겨준다(yield). 다음 코드는 next 내장 함수를 사용해 다음 원소를 가져온다. \n",
        "\n",
        "이로부터 enumerate가 반환한 이터레이터가 어떻게 동작하는지 볼 수 있다."
      ],
      "metadata": {
        "id": "VTU6l06Zf4DB"
      }
    },
    {
      "cell_type": "markdown",
      "source": [
        "next는 기본값을 지정할 수 있습니다. 기본값을 지정하면 반복이 끝나더라도 StopIteration이 발생하지 않고 기본값을 출력합니다. 즉, 반복할 수 있을 때는 해당 값을 출력하고, 반복이 끝났을 때는 기본값을 출력합니다."
      ],
      "metadata": {
        "id": "Hz0HczHtgZZ8"
      }
    },
    {
      "cell_type": "code",
      "source": [
        "it = enumerate(flavor_list)\n",
        "print(next(it))\n",
        "print(next(it))\n",
        "print(next(it))\n",
        "print(next(it))\n",
        "print(type(it))  #리스트에서 튜플형태로 바뀜\n",
        "print(next(it,10)) #next 함수의 성질을 보여주는 코드 "
      ],
      "metadata": {
        "colab": {
          "base_uri": "https://localhost:8080/"
        },
        "id": "uDNMv9fRgblg",
        "outputId": "896e4562-2099-42a6-d234-25a345f0f1aa"
      },
      "execution_count": 13,
      "outputs": [
        {
          "output_type": "stream",
          "name": "stdout",
          "text": [
            "(0, '바나나')\n",
            "(1, '초콜릿')\n",
            "(2, '피칸')\n",
            "(3, '딸기')\n",
            "<class 'enumerate'>\n",
            "10\n"
          ]
        }
      ]
    },
    {
      "cell_type": "markdown",
      "source": [
        "\n",
        "\n",
        "```\n",
        "# #rnage로 바꾸면 어떻게 변하는지 보자\n",
        "it = range(flavor_list)\n",
        "print(next(it))\n",
        "print(next(it))\n",
        "\n",
        ">>>\n",
        "TypeError: 'list' object cannot be interpreted as an integer\n",
        "```\n",
        "\n"
      ],
      "metadata": {
        "id": "Or9YDGYDhrLh"
      }
    },
    {
      "cell_type": "markdown",
      "source": [
        "enumerate가 넘겨주는 각 쌍을 for문에서 간결하게 언패킹할 수 있다. (코드가 깔끔해짐)"
      ],
      "metadata": {
        "id": "CH7HhvFnh9Yh"
      }
    },
    {
      "cell_type": "code",
      "source": [
        "for i, flavor in enumerate(flavor_list):\n",
        "  print(f'{i+1} : {flavor}')"
      ],
      "metadata": {
        "colab": {
          "base_uri": "https://localhost:8080/"
        },
        "id": "J-CiTUmChppJ",
        "outputId": "ea419bf5-8c10-4820-e76f-a216f161b63d"
      },
      "execution_count": 19,
      "outputs": [
        {
          "output_type": "stream",
          "name": "stdout",
          "text": [
            "1 : 바나나\n",
            "2 : 초콜릿\n",
            "3 : 피칸\n",
            "4 : 딸기\n"
          ]
        }
      ]
    },
    {
      "cell_type": "markdown",
      "source": [
        "\n",
        "\n",
        "```\n",
        "# range 로 실행해 비교해보자\n",
        "for i, flavor in range(flavor_list):\n",
        "    print(f'{i+1} : {flavor}')\n",
        "\n",
        ">>>\n",
        "TypeError: 'list' object cannot be interpreted as an integer\n",
        "```\n",
        "\n"
      ],
      "metadata": {
        "id": "CL5Uqj6Qik6j"
      }
    },
    {
      "cell_type": "markdown",
      "source": [
        "# **7.여러 이터레이터에 대해 나란히 루프를 수행하려면 zip을 사용하라**"
      ],
      "metadata": {
        "id": "HOLPzxJzm7wU"
      }
    },
    {
      "cell_type": "markdown",
      "source": [
        "리스트 컴프리헨션을 사용하면 list에서 새로운list를 파생시키기 쉽다."
      ],
      "metadata": {
        "id": "4DetlUmorFBZ"
      }
    },
    {
      "cell_type": "code",
      "source": [
        "names = ['Catalina', '영웅재중', '权赫敦']\n",
        "counts = [len(n) for n in names]\n",
        "print(counts)"
      ],
      "metadata": {
        "colab": {
          "base_uri": "https://localhost:8080/"
        },
        "id": "uO5Fg9LQnE9g",
        "outputId": "455c5c52-33d8-41a5-ee3b-7adccb0d41bc"
      },
      "execution_count": 39,
      "outputs": [
        {
          "output_type": "stream",
          "name": "stdout",
          "text": [
            "[8, 4, 3]\n"
          ]
        }
      ]
    },
    {
      "cell_type": "code",
      "source": [
        "longest_name = None \n",
        "max_count = 0\n",
        "\n",
        "for i in range(len(names)):  #len(names) : 3 -> rnage(3)   \n",
        "  count = counts[i]   #만약 인덱스 0 번째면 count = 8\n",
        "  if count > max_count:   # 8>0\n",
        "    longest_name = names[i]   #longest_name = names[0] = Catalina \n",
        "    max_count = count   # max_count = 8\n",
        "\n",
        "print(longest_name)    \n",
        "print(max_count)"
      ],
      "metadata": {
        "colab": {
          "base_uri": "https://localhost:8080/"
        },
        "id": "HVw3Nq65rrAB",
        "outputId": "7902284a-60e4-4aa7-8128-6b2ef82ebe10"
      },
      "execution_count": 41,
      "outputs": [
        {
          "output_type": "stream",
          "name": "stdout",
          "text": [
            "Catalina\n",
            "8\n"
          ]
        }
      ]
    },
    {
      "cell_type": "markdown",
      "source": [
        "👆🏽위 코드는 시각적으로 잡음이 많음"
      ],
      "metadata": {
        "id": "dO9VQ5iFvp-e"
      }
    },
    {
      "cell_type": "markdown",
      "source": [
        "이런 코드를 더 깔끔하게 만들 수 있도록 zip 함수 사용하자\n",
        "\n",
        "1. zip은 둘 이상의 이터레이터를 지연 계싼 제너레이터를 사용해 묶어준다.\n",
        "2. zip 제너레이터는 각 이터레이터의 다음 값이 들어있는 튜플을 반환한다.\n",
        "3. 이 튜플은 for문에서 바로 언패킹 할수있다"
      ],
      "metadata": {
        "id": "ngkoNlHrBvIC"
      }
    },
    {
      "cell_type": "code",
      "source": [
        "for name, count in zip(names, counts):\n",
        "  if count > max_count:\n",
        "    longest_name = name\n",
        "    max_count = count\n",
        "print(longest_name)\n",
        "print(max_count)"
      ],
      "metadata": {
        "colab": {
          "base_uri": "https://localhost:8080/"
        },
        "id": "b7aTtgRBvs29",
        "outputId": "7194c90d-7b6b-4688-a0cd-9a69a4778dd0"
      },
      "execution_count": 46,
      "outputs": [
        {
          "output_type": "stream",
          "name": "stdout",
          "text": [
            "Catalina\n",
            "8\n"
          ]
        }
      ]
    },
    {
      "cell_type": "markdown",
      "source": [
        "zip은 자신이 감싼 이터레이터 중 어느 하나가 끝날 때까지 튜플을 내놓는다.\n",
        "\n",
        "itertools에있는 zip_longest를 사용하면 존재하지 않는 값은 자신에게 전달된 fillvalue로 대신한다. 디폴트는 None이다."
      ],
      "metadata": {
        "id": "kZ44pO6ZGrR5"
      }
    },
    {
      "cell_type": "code",
      "source": [
        "names = [\"유재석\", \"남궁민수\", \"이훈\"]\n",
        "counts = [len(x) for x in names]\n",
        "\n",
        "for name, count in zip(names, counts):\n",
        "    if count > max_count:\n",
        "        longest_name = name\n",
        "        max_count = count\n",
        "\n",
        "names.append('Rosalind')  \n",
        "for name, count in zip(names, counts):\n",
        "    print(name)"
      ],
      "metadata": {
        "colab": {
          "base_uri": "https://localhost:8080/"
        },
        "id": "GexJWD37Gpn3",
        "outputId": "503cf587-d13a-4156-a629-5c11f47311b6"
      },
      "execution_count": 47,
      "outputs": [
        {
          "output_type": "stream",
          "name": "stdout",
          "text": [
            "유재석\n",
            "남궁민수\n",
            "이훈\n"
          ]
        }
      ]
    },
    {
      "cell_type": "markdown",
      "source": [
        "zip은 자신이 감싼 이터레이터 중 어느 하나가 끝날떄 까지 튜플을 제공\n",
        "\n",
        "따라서, 출력은 가장짧은 입력의 길이와 같다.\n",
        "\n",
        "입력 이터레이터의 길이가 모두 같다면 이 방식이 잘 작동한다.\n"
      ],
      "metadata": {
        "id": "RdIj7Is0HbG7"
      }
    },
    {
      "cell_type": "markdown",
      "source": [
        "zip에 전달한 리스트의 길이가 같지않을것을 예상한다면 itertools 내장모듈에 들어있는 zip_longest를 대신 사용하는것도 고려!!!!"
      ],
      "metadata": {
        "id": "cbYID-_JIhqg"
      }
    },
    {
      "cell_type": "code",
      "source": [
        "from itertools import zip_longest\n",
        "\n",
        "\n",
        "for name, count in zip_longest(names, counts):\n",
        "    print('zip_longest 사용하여 출력!')\n",
        "    print(f\"{name} : {count}\") "
      ],
      "metadata": {
        "colab": {
          "base_uri": "https://localhost:8080/"
        },
        "id": "2_7xcLvKIYCa",
        "outputId": "5f6cc458-5d75-4df9-ce8d-d1531c63f54c"
      },
      "execution_count": 53,
      "outputs": [
        {
          "output_type": "stream",
          "name": "stdout",
          "text": [
            "zip_longest 사용하여 출력!\n",
            "유재석 : 3\n",
            "zip_longest 사용하여 출력!\n",
            "남궁민수 : 4\n",
            "zip_longest 사용하여 출력!\n",
            "이훈 : 2\n",
            "zip_longest 사용하여 출력!\n",
            "Rosalind : None\n"
          ]
        }
      ]
    }
  ]
}